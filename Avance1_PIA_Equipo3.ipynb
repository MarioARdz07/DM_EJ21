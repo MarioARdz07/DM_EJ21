{
 "cells": [
  {
   "cell_type": "markdown",
   "metadata": {},
   "source": [
    "# Primer Avance del PIA\n",
    "* **Equipo:** 3\n",
    "* **Grupo:** 003 (Lunes 18-21)\n",
    "* **Integrantes:**\n",
    "    * 1860533 De León Flores Jennifer Priscila\n",
    "    * 1858788 Gallegos Luna Enrique Alejandro\n",
    "    * 1860043 Rodríguez Morales Mario Alberto\n",
    "    * 1862717 Ruiz Ramirez Luis Angel"
   ]
  },
  {
   "cell_type": "markdown",
   "metadata": {},
   "source": [
    "## Base de datos principal\n",
    "* **Nombre:** U.S. Gasoline and Diesel Retail Prices 1995-2021\n",
    "* **URL:** https://www.kaggle.com/mruanova/us-gasoline-and-diesel-retail-prices-19952021"
   ]
  },
  {
   "cell_type": "markdown",
   "metadata": {},
   "source": [
    "### Descripción de los datos\n",
    "* **Tipo de datos:** Tabla con precios históricos.\n",
    "* **Descripción de las columnas:** Nuestra base de datos cuenta que 14 columnas:\n",
    "    * **Date:** Esta columna cuenta con datos del tipo fecha, las cuales van del 02 de enero de 1995 al 25 de enero de 2021.\n",
    "    * **A1, A2, A3, R1, R2, R3, M1, M2, M3, P1, P2, P3, D1:** Estas 13 columnas cuentan con datos numéricos del tipo flotante, los cuales son precios promedio semanales de varios tipos de gasolina en los Estados Unidos. Los tipos de gasolina son: All Grades (todos los tipos en conjunto), Regular (mejor conocida en México como \"Gasolina Roja\"), Premium (conocida como \"Gasolina Verde\") y Diesel (conocida como \"Gasolina para camiones\" o \"Gasolina Negra\")."
   ]
  },
  {
   "cell_type": "markdown",
   "metadata": {},
   "source": [
    "### Justificación del uso de datos\n",
    "* **¿Porqué trabajar con ellos?** Como equipo, nos interesa trabajar con estos datos dado que el precio de la gasolina es muy volátil y suele subir o bajar de forma repentina. Con este conjunto de datos podremos observar e investigar acerca de la tendencia de los datos, para que en conjunto con la investigación sea más fácil conocer los factores o acontecimientos que han afectado el precio de los diferentes tipos de gasolina, así como en base a precios históricos predecir el comportamiento del precio en el futuro.\n",
    "* **¿Cuál es el beneficio de trabajar en estos datos?** Como mencionamos, al intentar predecir el precio en el futuro en base a precios históricos, podremos dar a conocer a las personas que tienen automóviles o camiones cuando será el momento para llenar al completo su tanque dado que será un precio más bajo."
   ]
  },
  {
   "cell_type": "markdown",
   "metadata": {},
   "source": [
    "### Objetivo final\n",
    "Nuestro **objetivo principal** es realizar un modelo de predicción de precios para poder predecir los precios en cualquier momento del tiempo. Como **objetivo secundario** tenemos el conocer los acontecimientos históricos que afectaron el precio de los diversos tipos de gasolina entre el 02 de enero de 1995 y el 25 de enero de 2021."
   ]
  },
  {
   "cell_type": "markdown",
   "metadata": {},
   "source": [
    "### Preguntas de interés\n",
    "* ¿Afectó la pandemia del COVID-19 al precio de la gasolina?\n",
    "* Si el COVID-19 afectó al precio, ¿el precio fue a la alza o a la baja?\n",
    "* ¿Los cambios de presidente afectaron al precio de la gasolina?\n",
    "* ¿Afectó el 11S al precio de la gasolina?"
   ]
  },
  {
   "cell_type": "markdown",
   "metadata": {},
   "source": [
    "### Parte de programación\n",
    "Importamos nuestra base de datos la cual lleva por nombre *PET_PRI_GND_DCUS_NUS_W.csv* cuyos datos sin manipulación son los siguientes:"
   ]
  },
  {
   "cell_type": "code",
   "execution_count": 2,
   "metadata": {},
   "outputs": [
    {
     "name": "stdout",
     "output_type": "stream",
     "text": [
      "Los datos sin manipulación son:\n",
      "            Date     A1     A2     A3     R1     R2     R3     M1     M2  \\\n",
      "0     01/02/1995  1.127  1.104  1.231  1.079  1.063  1.167  1.170  1.159   \n",
      "1     01/09/1995  1.134  1.111  1.232  1.086  1.070  1.169  1.177  1.164   \n",
      "2     01/16/1995  1.126  1.102  1.231  1.078  1.062  1.169  1.168  1.155   \n",
      "3     01/23/1995  1.132  1.110  1.226  1.083  1.068  1.165  1.177  1.165   \n",
      "4     01/30/1995  1.131  1.109  1.221  1.083  1.068  1.162  1.176  1.163   \n",
      "...          ...    ...    ...    ...    ...    ...    ...    ...    ...   \n",
      "1356  12/28/2020  2.330  2.225  2.535  2.243  2.158  2.423  2.634  2.482   \n",
      "1357  01/04/2021  2.336  2.227  2.549  2.249  2.160  2.437  2.639  2.484   \n",
      "1358  01/11/2021  2.403  2.298  2.610  2.317  2.232  2.498  2.702  2.550   \n",
      "1359  01/18/2021  2.464  2.351  2.688  2.379  2.285  2.579  2.759  2.601   \n",
      "1360  01/25/2021  2.478  2.363  2.703  2.392  2.298  2.593  2.776  2.615   \n",
      "\n",
      "         M3     P1     P2     P3     D1  \n",
      "0     1.298  1.272  1.250  1.386  1.104  \n",
      "1     1.300  1.279  1.256  1.387  1.102  \n",
      "2     1.299  1.271  1.249  1.385  1.100  \n",
      "3     1.296  1.277  1.256  1.378  1.095  \n",
      "4     1.291  1.275  1.255  1.370  1.090  \n",
      "...     ...    ...    ...    ...    ...  \n",
      "1356  2.858  2.889  2.770  3.031  2.635  \n",
      "1357  2.867  2.895  2.771  3.042  2.640  \n",
      "1358  2.927  2.959  2.839  3.101  2.670  \n",
      "1359  2.995  3.014  2.885  3.166  2.696  \n",
      "1360  3.014  3.033  2.900  3.191  2.716  \n",
      "\n",
      "[1361 rows x 14 columns]\n"
     ]
    }
   ],
   "source": [
    "import pandas as pd\n",
    "import numpy as np\n",
    "import json\n",
    "df=pd.read_csv(\"PET_PRI_GND_DCUS_NUS_W.csv\")\n",
    "print(\"Los datos sin manipulación son:\")\n",
    "print(df)"
   ]
  },
  {
   "cell_type": "markdown",
   "metadata": {},
   "source": [
    "Como nos enfocaremos en los precios promedio según su nivel de octanaje no si su fórmula es convencional o reformulada, además incluiremos si es Premium o Diesel, eliminamos el resto de las columnas, ya que estas tienen el precio según si son gasolinas convencionales o reformuladas, en las cuales el nivel de octanaje no importa. Las columnas que nos interesan las renombraremos para una más fácil identificación, por lo cual nuestra base de datos a trabajar es la siguiente:"
   ]
  },
  {
   "cell_type": "code",
   "execution_count": 11,
   "metadata": {},
   "outputs": [
    {
     "name": "stdout",
     "output_type": "stream",
     "text": [
      "            Date  All Grades  Regular  Midgraded  Premium  Diesel\n",
      "0     01/02/1995       1.127    1.079      1.170    1.272   1.104\n",
      "1     01/09/1995       1.134    1.086      1.177    1.279   1.102\n",
      "2     01/16/1995       1.126    1.078      1.168    1.271   1.100\n",
      "3     01/23/1995       1.132    1.083      1.177    1.277   1.095\n",
      "4     01/30/1995       1.131    1.083      1.176    1.275   1.090\n",
      "...          ...         ...      ...        ...      ...     ...\n",
      "1356  12/28/2020       2.330    2.243      2.634    2.889   2.635\n",
      "1357  01/04/2021       2.336    2.249      2.639    2.895   2.640\n",
      "1358  01/11/2021       2.403    2.317      2.702    2.959   2.670\n",
      "1359  01/18/2021       2.464    2.379      2.759    3.014   2.696\n",
      "1360  01/25/2021       2.478    2.392      2.776    3.033   2.716\n",
      "\n",
      "[1361 rows x 6 columns]\n"
     ]
    }
   ],
   "source": [
    "df.rename(columns={'A1':'All Grades','R1':'Regular','M1':'Midgraded','P1':'Premium','D1':'Diesel'},inplace=True)\n",
    "cf=df.drop(['A2','A3','R2','R3','M2','M3','P2','P3'],axis=1) #Guardando la base que necesitamos en otra variable\n",
    "print(cf)"
   ]
  },
  {
   "cell_type": "markdown",
   "metadata": {},
   "source": [
    "Nuestra base de datos no cuenta con datos nulos:"
   ]
  },
  {
   "cell_type": "code",
   "execution_count": 8,
   "metadata": {
    "scrolled": true
   },
   "outputs": [
    {
     "data": {
      "text/plain": [
       "Date          0\n",
       "All Grades    0\n",
       "Regular       0\n",
       "Midgraded     0\n",
       "Premium       0\n",
       "Diesel        0\n",
       "dtype: int64"
      ]
     },
     "execution_count": 8,
     "metadata": {},
     "output_type": "execute_result"
    }
   ],
   "source": [
    "cf.isnull().sum()"
   ]
  },
  {
   "cell_type": "markdown",
   "metadata": {},
   "source": [
    "Creando la nueva base de datos con los datos que necesitamos únicamente, la guardamos bajo el nombre *DatosNuevosGasolina.csv*:"
   ]
  },
  {
   "cell_type": "code",
   "execution_count": 10,
   "metadata": {},
   "outputs": [],
   "source": [
    "cf.to_csv(\"DatosNuevosGasolina.csv\",index=False)"
   ]
  },
  {
   "cell_type": "markdown",
   "metadata": {},
   "source": [
    "## Base de datos secundaria\n",
    "* **Nombre:** 14 Years of Inflation (IPC) in Latino America\n",
    "* **URL:** https://www.kaggle.com/jaforero/inflation-ipc-in-latam?select=Inflation.csv"
   ]
  },
  {
   "cell_type": "markdown",
   "metadata": {},
   "source": [
    "### Descripción de los datos\n",
    "* **Tipo de datos:** Tabla con valores anuales de inflación históricos.\n",
    "* **Descripción de las columnas:** Se cuenta con 5 columnas en las cuales se tiene:\n",
    "    * **Country:** Contiene datos de texto con el nombre de los países de los cuales se tiene datos.\n",
    "    * **Year:** Contiene el dato numérico tipo entero sobre el año en el cual se registro cierta tasa de inflación en cierto país, se tienen datos de 2007 a 2020.\n",
    "    * **Link:** Contiene texto largo, en el cual se encuentra la fuente de la cual se extrajo el dato.\n",
    "    * **Source:** Contiene texto largo, esta columna va de la mano con la columna ***link*** dado que es el nombre oficial de la página que se consultó.\n",
    "    * **Anual Rate:** Contiene elementos numéricos tipo porcentaje, esta es la columna que contiene la tasa de inflación anual en algún país dado cierto año."
   ]
  },
  {
   "cell_type": "markdown",
   "metadata": {},
   "source": [
    "### Justificación del uso de datos\n",
    "* **¿Porqué trabajar con ellos?** Como bien es sabido, en Latinoamérica se tienen altos índices de inflación que muchas de las veces van en aumento año con año, al trabajar con estos datos podremos comparar la inflación entre los países de Latinoamérica, así como indagar en internet sobre que ocurrió en algún país si en algún año se tuvo un crecimiento muy grande o un decrecimiento en la inflación. Al igual que con nuestra base de datos principal, también nos interesaría hacer un modelo de predicción para conocer como se comportará la inflación en los años siguientes si se sigue la tendencia que ha tenido la inflación hasta ahora.\n",
    "* **¿Cuál es el beneficio de trabajar en estos datos?** Al trabajar con estos datos obtendremos conocimiento sobre la economía de los países, lo cual es un punto fuerte en nuestra carrera ya forma parte de las ciencias económicas. Además de esto podremos identificar que acontecimientos han afectado a la inflación en nuestro país para así identificar alguno de estos en un futuro."
   ]
  },
  {
   "cell_type": "markdown",
   "metadata": {},
   "source": [
    "### Objetivo final\n",
    "Nuestro **objetivo principal** con esta base de datos es conocer y presentar los diversos acontecimientos que han provocado un cambio en la inflación. Como **objetivo secundario** nos interesa realizar un modelo de predicción, aunque es algo un poco más difícil dado que algún acontecimiento inesperado podría cambiar de forma repentina la tendencia de los datos."
   ]
  },
  {
   "cell_type": "markdown",
   "metadata": {},
   "source": [
    "### Preguntas de interés\n",
    "* ¿Cuándo fue que la inflación de Venezuela comenzó a crecer?, ¿A qué se debió esto?\n",
    "* Durante el 2020 llegó la pandemia de COVID-19 a Latinoamérica, ¿Hubo cambios significatorios entre 2019 y 2020 en la inflación de todos los países?\n",
    "* ¿En qué año la inflación en México fue mayor?, ¿A qué se debió esto?\n",
    "* En 2009 ocurrió la pandemia de influenza AH1N1, ¿afectó esta a la inflación?"
   ]
  },
  {
   "cell_type": "markdown",
   "metadata": {},
   "source": [
    "Esta base de datos lleva por nombre *Inflation.csv*, en este caso al importarla se debe usar una codificación, ya que se tiene acentos y letras que no se reconocen por el lenguaje de programación. Los datos importados sin manipulación son los siguientes:"
   ]
  },
  {
   "cell_type": "code",
   "execution_count": 13,
   "metadata": {},
   "outputs": [
    {
     "name": "stdout",
     "output_type": "stream",
     "text": [
      "Los datos sin manipulación son:\n",
      "             Country  Year                                               Link  \\\n",
      "0           Ecuador   2020  https://www.ecuadorencifras.gob.ec//indice-de-...   \n",
      "1        El Salvador  2020      http://www.bcr.gob.sv/bcrsite/?x21=73&lang=es   \n",
      "2             Panamá  2020                http://www.contraloria.gob.pa/inec/   \n",
      "3    Rep. Dominicana  2020                      http://www.bancentral.gov.do/   \n",
      "4            Bolivia  2020    https://www.bcb.gob.bo/?q=indicadores_inflacion   \n",
      "..               ...   ...                                                ...   \n",
      "243         Colombia  2007                            http://www.dane.gov.co/   \n",
      "244          Uruguay  2007                  http://www.ine.gub.uy/Default.asp   \n",
      "245           Brazil  2007  http://www.bcb.gov.br/pec/metas/tabelametasere...   \n",
      "246        Argentina  2007  http://www.indec.mecon.ar/nivel4_default.asp?i...   \n",
      "247        Venezuela  2007  http://www.ine.gov.ve/index.php?option=com_con...   \n",
      "\n",
      "                 Source Anual Rate  \n",
      "0         Banco Ecuador     -0.93%  \n",
      "1    Banco del Salvador     -0.09%  \n",
      "2                  INEC        NaN  \n",
      "3         Banco Central      5.55%  \n",
      "4         Banco Central      0.70%  \n",
      "..                  ...        ...  \n",
      "243                DANE      5.70%  \n",
      "244                 INE      8.50%  \n",
      "245     Banco de Brasil      4.50%  \n",
      "246               INDEC      8.50%  \n",
      "247                 INE     22.50%  \n",
      "\n",
      "[248 rows x 5 columns]\n"
     ]
    }
   ],
   "source": [
    "import pandas as pd\n",
    "tf=pd.read_csv(\"Inflation.csv\",encoding='latin1')\n",
    "print(\"Los datos sin manipulación son:\")\n",
    "print(tf)"
   ]
  },
  {
   "cell_type": "markdown",
   "metadata": {},
   "source": [
    "Como nos interesan únicamente los datos como son el nombre del país, el año y su tasa de inflación, procederemos a eliminar las columnas de la fuente (Source) así como su URL (Link), y renombramos las columnas que nos importan al idioma español para una mejor identificación."
   ]
  },
  {
   "cell_type": "code",
   "execution_count": 14,
   "metadata": {},
   "outputs": [
    {
     "name": "stdout",
     "output_type": "stream",
     "text": [
      "                Pais   Año TasaAnual\n",
      "0           Ecuador   2020    -0.93%\n",
      "1        El Salvador  2020    -0.09%\n",
      "2             Panamá  2020       NaN\n",
      "3    Rep. Dominicana  2020     5.55%\n",
      "4            Bolivia  2020     0.70%\n",
      "..               ...   ...       ...\n",
      "243         Colombia  2007     5.70%\n",
      "244          Uruguay  2007     8.50%\n",
      "245           Brazil  2007     4.50%\n",
      "246        Argentina  2007     8.50%\n",
      "247        Venezuela  2007    22.50%\n",
      "\n",
      "[248 rows x 3 columns]\n"
     ]
    }
   ],
   "source": [
    "tf.rename(columns={'Country':'Pais','Year':'Año','Anual Rate':'TasaAnual'},inplace=True)\n",
    "rf=tf.drop(['Link','Source'],axis=1)\n",
    "print(rf)"
   ]
  },
  {
   "cell_type": "markdown",
   "metadata": {},
   "source": [
    "En esta caso tenemos datos nulos, por lo cual prodeceremos a eliminar estos datos nulos para un mejor estudio de los datos."
   ]
  },
  {
   "cell_type": "code",
   "execution_count": 38,
   "metadata": {},
   "outputs": [
    {
     "data": {
      "text/plain": [
       "Pais         0\n",
       "Año          0\n",
       "TasaAnual    2\n",
       "dtype: int64"
      ]
     },
     "execution_count": 38,
     "metadata": {},
     "output_type": "execute_result"
    }
   ],
   "source": [
    "rf.isnull().sum()"
   ]
  },
  {
   "cell_type": "markdown",
   "metadata": {},
   "source": [
    "Utilizando el comando dropna eliminamos estas filas en las cuales la tasa de inflación no se registró."
   ]
  },
  {
   "cell_type": "code",
   "execution_count": 15,
   "metadata": {},
   "outputs": [
    {
     "data": {
      "text/plain": [
       "Pais         0\n",
       "Año          0\n",
       "TasaAnual    0\n",
       "dtype: int64"
      ]
     },
     "execution_count": 15,
     "metadata": {},
     "output_type": "execute_result"
    }
   ],
   "source": [
    "rf=rf.dropna(axis=0)\n",
    "rf.isnull().sum()"
   ]
  },
  {
   "cell_type": "markdown",
   "metadata": {},
   "source": [
    "Crearemos un archivo llamado *InflaciónNueva.csv*, el cual únicamente contiene los datos que nos interesan."
   ]
  },
  {
   "cell_type": "code",
   "execution_count": 16,
   "metadata": {},
   "outputs": [],
   "source": [
    "rf.to_csv(\"InflaciónNueva.csv\",index=False)"
   ]
  }
 ],
 "metadata": {
  "kernelspec": {
   "display_name": "Python 3",
   "language": "python",
   "name": "python3"
  },
  "language_info": {
   "codemirror_mode": {
    "name": "ipython",
    "version": 3
   },
   "file_extension": ".py",
   "mimetype": "text/x-python",
   "name": "python",
   "nbconvert_exporter": "python",
   "pygments_lexer": "ipython3",
   "version": "3.8.5"
  }
 },
 "nbformat": 4,
 "nbformat_minor": 4
}
