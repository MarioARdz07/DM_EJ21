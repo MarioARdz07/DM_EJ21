{
 "cells": [
  {
   "cell_type": "markdown",
   "metadata": {},
   "source": [
    "## Ejercicio de Limpieza de datos\n",
    "* Equipo: 3\n",
    "* Grupo: 003 (Lunes 18-21)\n",
    "* Integrantes\n",
    "    * 1860533 De León Flores Jennifer Priscila\n",
    "    * 1858788 Gallegos Luna Enrique Alejandro\n",
    "    * 1860043 Rodríguez Morales Mario Alberto\n",
    "    * 1862717 Ruiz Ramirez Luis Angel"
   ]
  },
  {
   "cell_type": "markdown",
   "metadata": {},
   "source": [
    "### Base de datos\n",
    "* U.S. Gasoline and Diesel Retail Prices 1995-2021\n",
    "* https://www.kaggle.com/mruanova/us-gasoline-and-diesel-retail-prices-19952021"
   ]
  },
  {
   "cell_type": "code",
   "execution_count": 17,
   "metadata": {},
   "outputs": [
    {
     "name": "stdout",
     "output_type": "stream",
     "text": [
      "Los datos sin manipulación son:\n",
      "            Date     A1     A2     A3     R1     R2     R3     M1     M2  \\\n",
      "0     01/02/1995  1.127  1.104  1.231  1.079  1.063  1.167  1.170  1.159   \n",
      "1     01/09/1995  1.134  1.111  1.232  1.086  1.070  1.169  1.177  1.164   \n",
      "2     01/16/1995  1.126  1.102  1.231  1.078  1.062  1.169  1.168  1.155   \n",
      "3     01/23/1995  1.132  1.110  1.226  1.083  1.068  1.165  1.177  1.165   \n",
      "4     01/30/1995  1.131  1.109  1.221  1.083  1.068  1.162  1.176  1.163   \n",
      "...          ...    ...    ...    ...    ...    ...    ...    ...    ...   \n",
      "1356  12/28/2020  2.330  2.225  2.535  2.243  2.158  2.423  2.634  2.482   \n",
      "1357  01/04/2021  2.336  2.227  2.549  2.249  2.160  2.437  2.639  2.484   \n",
      "1358  01/11/2021  2.403  2.298  2.610  2.317  2.232  2.498  2.702  2.550   \n",
      "1359  01/18/2021  2.464  2.351  2.688  2.379  2.285  2.579  2.759  2.601   \n",
      "1360  01/25/2021  2.478  2.363  2.703  2.392  2.298  2.593  2.776  2.615   \n",
      "\n",
      "         M3     P1     P2     P3     D1  \n",
      "0     1.298  1.272  1.250  1.386  1.104  \n",
      "1     1.300  1.279  1.256  1.387  1.102  \n",
      "2     1.299  1.271  1.249  1.385  1.100  \n",
      "3     1.296  1.277  1.256  1.378  1.095  \n",
      "4     1.291  1.275  1.255  1.370  1.090  \n",
      "...     ...    ...    ...    ...    ...  \n",
      "1356  2.858  2.889  2.770  3.031  2.635  \n",
      "1357  2.867  2.895  2.771  3.042  2.640  \n",
      "1358  2.927  2.959  2.839  3.101  2.670  \n",
      "1359  2.995  3.014  2.885  3.166  2.696  \n",
      "1360  3.014  3.033  2.900  3.191  2.716  \n",
      "\n",
      "[1361 rows x 14 columns]\n"
     ]
    }
   ],
   "source": [
    "import pandas as pd\n",
    "import numpy as np\n",
    "import json\n",
    "df=pd.read_csv(\"PET_PRI_GND_DCUS_NUS_W.csv\")\n",
    "print(\"Los datos sin manipulación son:\")\n",
    "print(df)"
   ]
  },
  {
   "cell_type": "markdown",
   "metadata": {},
   "source": [
    "Como nos enfocaremos en los precios promedio según su nivel de octanaje no si su fórmula es convencional o reformulada, además incluiremos si es Premium o Diesel, eliminamos el resto de las columnas, ya que estas tienen el precio según si son gasolinas convencionales o reformuladas, en las cuales el nivel de octanaje no importa"
   ]
  },
  {
   "cell_type": "code",
   "execution_count": 57,
   "metadata": {},
   "outputs": [
    {
     "name": "stdout",
     "output_type": "stream",
     "text": [
      "            Date  All Grades  Regular  Midgraded  Premium  Diesel\n",
      "0     01/02/1995       1.127    1.079      1.170    1.272   1.104\n",
      "1     01/09/1995       1.134    1.086      1.177    1.279   1.102\n",
      "2     01/16/1995       1.126    1.078      1.168    1.271   1.100\n",
      "3     01/23/1995       1.132    1.083      1.177    1.277   1.095\n",
      "4     01/30/1995       1.131    1.083      1.176    1.275   1.090\n",
      "...          ...         ...      ...        ...      ...     ...\n",
      "1356  12/28/2020       2.330    2.243      2.634    2.889   2.635\n",
      "1357  01/04/2021       2.336    2.249      2.639    2.895   2.640\n",
      "1358  01/11/2021       2.403    2.317      2.702    2.959   2.670\n",
      "1359  01/18/2021       2.464    2.379      2.759    3.014   2.696\n",
      "1360  01/25/2021       2.478    2.392      2.776    3.033   2.716\n",
      "\n",
      "[1361 rows x 6 columns]\n"
     ]
    }
   ],
   "source": [
    "df.rename(columns={'A1':'All Grades','R1':'Regular','M1':'Midgraded','P1':'Premium','D1':'Diesel'},inplace=True)\n",
    "#Con ayuda de: https://www.analyticslane.com/2019/05/06/como-cambiar-el-nombre-de-las-columnas-en-pandas/\n",
    "cf=df.drop(['A2','A3','R2','R3','M2','M3','P2','P3'],axis=1) #Guardando la base que necesitamos en otra variable\n",
    "#Con ayuda de: https://www.analyticslane.com/2019/03/25/como-eliminar-columnas-y-filas-en-un-dataframe-pandas/"
   ]
  },
  {
   "cell_type": "markdown",
   "metadata": {},
   "source": [
    "Nuestra base de datos no cuenta con datos nulos"
   ]
  },
  {
   "cell_type": "code",
   "execution_count": 60,
   "metadata": {
    "scrolled": true
   },
   "outputs": [
    {
     "data": {
      "text/plain": [
       "Date          0\n",
       "All Grades    0\n",
       "Regular       0\n",
       "Midgraded     0\n",
       "Premium       0\n",
       "Diesel        0\n",
       "dtype: int64"
      ]
     },
     "execution_count": 60,
     "metadata": {},
     "output_type": "execute_result"
    }
   ],
   "source": [
    "cf.isnull().sum()"
   ]
  },
  {
   "cell_type": "markdown",
   "metadata": {},
   "source": [
    "Creando la nueva base de datos con los datos que necesitamos únicamente"
   ]
  },
  {
   "cell_type": "code",
   "execution_count": 62,
   "metadata": {},
   "outputs": [],
   "source": [
    "cf.to_csv(\"DatosNuevosGasolina.csv\",index=False)\n",
    "#Con ayuda de: https://aprendeia.com/limpieza-y-procesamiento-de-datos-con-codigo-en-python/"
   ]
  },
  {
   "cell_type": "markdown",
   "metadata": {},
   "source": [
    "#### Extra\n",
    "* Dropna: Permite de una forma muy conveniente, filtrar los valores de una estructura de datos pandas para dejar solo aquellos no nulos. Su sintaxis es pandas.df.dropna(axis=1), donde el axis 0 se refiere a filas, el axis 1 a columnas y también se tiene el pandas.df.dropna(how=\"all\") donde un all elimina todas las filas y/o columnas donde todos los datos sean nulos y un any servirá para eliminar las filas y/o columnas en donde al menos un elemento sea cero."
   ]
  },
  {
   "cell_type": "code",
   "execution_count": 66,
   "metadata": {},
   "outputs": [
    {
     "data": {
      "text/html": [
       "<div>\n",
       "<style scoped>\n",
       "    .dataframe tbody tr th:only-of-type {\n",
       "        vertical-align: middle;\n",
       "    }\n",
       "\n",
       "    .dataframe tbody tr th {\n",
       "        vertical-align: top;\n",
       "    }\n",
       "\n",
       "    .dataframe thead th {\n",
       "        text-align: right;\n",
       "    }\n",
       "</style>\n",
       "<table border=\"1\" class=\"dataframe\">\n",
       "  <thead>\n",
       "    <tr style=\"text-align: right;\">\n",
       "      <th></th>\n",
       "      <th>Date</th>\n",
       "      <th>All Grades</th>\n",
       "      <th>Regular</th>\n",
       "      <th>Midgraded</th>\n",
       "      <th>Premium</th>\n",
       "      <th>Diesel</th>\n",
       "    </tr>\n",
       "  </thead>\n",
       "  <tbody>\n",
       "    <tr>\n",
       "      <th>0</th>\n",
       "      <td>01/02/1995</td>\n",
       "      <td>1.127</td>\n",
       "      <td>1.079</td>\n",
       "      <td>1.170</td>\n",
       "      <td>1.272</td>\n",
       "      <td>1.104</td>\n",
       "    </tr>\n",
       "    <tr>\n",
       "      <th>1</th>\n",
       "      <td>01/09/1995</td>\n",
       "      <td>1.134</td>\n",
       "      <td>1.086</td>\n",
       "      <td>1.177</td>\n",
       "      <td>1.279</td>\n",
       "      <td>1.102</td>\n",
       "    </tr>\n",
       "    <tr>\n",
       "      <th>2</th>\n",
       "      <td>01/16/1995</td>\n",
       "      <td>1.126</td>\n",
       "      <td>1.078</td>\n",
       "      <td>1.168</td>\n",
       "      <td>1.271</td>\n",
       "      <td>1.100</td>\n",
       "    </tr>\n",
       "    <tr>\n",
       "      <th>3</th>\n",
       "      <td>01/23/1995</td>\n",
       "      <td>1.132</td>\n",
       "      <td>1.083</td>\n",
       "      <td>1.177</td>\n",
       "      <td>1.277</td>\n",
       "      <td>1.095</td>\n",
       "    </tr>\n",
       "    <tr>\n",
       "      <th>4</th>\n",
       "      <td>01/30/1995</td>\n",
       "      <td>1.131</td>\n",
       "      <td>1.083</td>\n",
       "      <td>1.176</td>\n",
       "      <td>1.275</td>\n",
       "      <td>1.090</td>\n",
       "    </tr>\n",
       "    <tr>\n",
       "      <th>...</th>\n",
       "      <td>...</td>\n",
       "      <td>...</td>\n",
       "      <td>...</td>\n",
       "      <td>...</td>\n",
       "      <td>...</td>\n",
       "      <td>...</td>\n",
       "    </tr>\n",
       "    <tr>\n",
       "      <th>1356</th>\n",
       "      <td>12/28/2020</td>\n",
       "      <td>2.330</td>\n",
       "      <td>2.243</td>\n",
       "      <td>2.634</td>\n",
       "      <td>2.889</td>\n",
       "      <td>2.635</td>\n",
       "    </tr>\n",
       "    <tr>\n",
       "      <th>1357</th>\n",
       "      <td>01/04/2021</td>\n",
       "      <td>2.336</td>\n",
       "      <td>2.249</td>\n",
       "      <td>2.639</td>\n",
       "      <td>2.895</td>\n",
       "      <td>2.640</td>\n",
       "    </tr>\n",
       "    <tr>\n",
       "      <th>1358</th>\n",
       "      <td>01/11/2021</td>\n",
       "      <td>2.403</td>\n",
       "      <td>2.317</td>\n",
       "      <td>2.702</td>\n",
       "      <td>2.959</td>\n",
       "      <td>2.670</td>\n",
       "    </tr>\n",
       "    <tr>\n",
       "      <th>1359</th>\n",
       "      <td>01/18/2021</td>\n",
       "      <td>2.464</td>\n",
       "      <td>2.379</td>\n",
       "      <td>2.759</td>\n",
       "      <td>3.014</td>\n",
       "      <td>2.696</td>\n",
       "    </tr>\n",
       "    <tr>\n",
       "      <th>1360</th>\n",
       "      <td>01/25/2021</td>\n",
       "      <td>2.478</td>\n",
       "      <td>2.392</td>\n",
       "      <td>2.776</td>\n",
       "      <td>3.033</td>\n",
       "      <td>2.716</td>\n",
       "    </tr>\n",
       "  </tbody>\n",
       "</table>\n",
       "<p>1361 rows × 6 columns</p>\n",
       "</div>"
      ],
      "text/plain": [
       "            Date  All Grades  Regular  Midgraded  Premium  Diesel\n",
       "0     01/02/1995       1.127    1.079      1.170    1.272   1.104\n",
       "1     01/09/1995       1.134    1.086      1.177    1.279   1.102\n",
       "2     01/16/1995       1.126    1.078      1.168    1.271   1.100\n",
       "3     01/23/1995       1.132    1.083      1.177    1.277   1.095\n",
       "4     01/30/1995       1.131    1.083      1.176    1.275   1.090\n",
       "...          ...         ...      ...        ...      ...     ...\n",
       "1356  12/28/2020       2.330    2.243      2.634    2.889   2.635\n",
       "1357  01/04/2021       2.336    2.249      2.639    2.895   2.640\n",
       "1358  01/11/2021       2.403    2.317      2.702    2.959   2.670\n",
       "1359  01/18/2021       2.464    2.379      2.759    3.014   2.696\n",
       "1360  01/25/2021       2.478    2.392      2.776    3.033   2.716\n",
       "\n",
       "[1361 rows x 6 columns]"
      ]
     },
     "execution_count": 66,
     "metadata": {},
     "output_type": "execute_result"
    }
   ],
   "source": [
    "cf.dropna(how=\"any\") #No elimina nada ya que no se tienen datos nulos"
   ]
  },
  {
   "cell_type": "markdown",
   "metadata": {},
   "source": [
    "* astype: Cambia el tipo de datos según el deseado con la sintaxis pandas.df[columna].astype(tipo de dato deseado)"
   ]
  },
  {
   "cell_type": "code",
   "execution_count": 67,
   "metadata": {},
   "outputs": [
    {
     "data": {
      "text/plain": [
       "0       1.079\n",
       "1       1.086\n",
       "2       1.078\n",
       "3       1.083\n",
       "4       1.083\n",
       "        ...  \n",
       "1356    2.243\n",
       "1357    2.249\n",
       "1358    2.317\n",
       "1359    2.379\n",
       "1360    2.392\n",
       "Name: Regular, Length: 1361, dtype: float64"
      ]
     },
     "execution_count": 67,
     "metadata": {},
     "output_type": "execute_result"
    }
   ],
   "source": [
    "cf.Regular.astype(float)"
   ]
  }
 ],
 "metadata": {
  "kernelspec": {
   "display_name": "Python 3",
   "language": "python",
   "name": "python3"
  },
  "language_info": {
   "codemirror_mode": {
    "name": "ipython",
    "version": 3
   },
   "file_extension": ".py",
   "mimetype": "text/x-python",
   "name": "python",
   "nbconvert_exporter": "python",
   "pygments_lexer": "ipython3",
   "version": "3.8.5"
  }
 },
 "nbformat": 4,
 "nbformat_minor": 4
}
