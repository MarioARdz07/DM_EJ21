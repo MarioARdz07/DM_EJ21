{
 "cells": [
  {
   "cell_type": "markdown",
   "metadata": {},
   "source": [
    "## Ejercicio de Limpieza de datos\n",
    "* **Equipo:** 3\n",
    "* **Grupo:** 003 (Lunes 18-21)\n",
    "* **Integrantes:**\n",
    "    * 1860533 De León Flores Jennifer Priscila\n",
    "    * 1858788 Gallegos Luna Enrique Alejandro\n",
    "    * 1860043 Rodríguez Morales Mario Alberto\n",
    "    * 1862717 Ruiz Ramirez Luis Angel"
   ]
  },
  {
   "cell_type": "markdown",
   "metadata": {},
   "source": [
    "### Base de datos principal\n",
    "* **Nombre:** U.S. Gasoline and Diesel Retail Prices 1995-2021\n",
    "* **URL:** https://www.kaggle.com/mruanova/us-gasoline-and-diesel-retail-prices-19952021"
   ]
  },
  {
   "cell_type": "code",
   "execution_count": 17,
   "metadata": {},
   "outputs": [
    {
     "name": "stdout",
     "output_type": "stream",
     "text": [
      "Los datos sin manipulación son:\n",
      "            Date     A1     A2     A3     R1     R2     R3     M1     M2  \\\n",
      "0     01/02/1995  1.127  1.104  1.231  1.079  1.063  1.167  1.170  1.159   \n",
      "1     01/09/1995  1.134  1.111  1.232  1.086  1.070  1.169  1.177  1.164   \n",
      "2     01/16/1995  1.126  1.102  1.231  1.078  1.062  1.169  1.168  1.155   \n",
      "3     01/23/1995  1.132  1.110  1.226  1.083  1.068  1.165  1.177  1.165   \n",
      "4     01/30/1995  1.131  1.109  1.221  1.083  1.068  1.162  1.176  1.163   \n",
      "...          ...    ...    ...    ...    ...    ...    ...    ...    ...   \n",
      "1356  12/28/2020  2.330  2.225  2.535  2.243  2.158  2.423  2.634  2.482   \n",
      "1357  01/04/2021  2.336  2.227  2.549  2.249  2.160  2.437  2.639  2.484   \n",
      "1358  01/11/2021  2.403  2.298  2.610  2.317  2.232  2.498  2.702  2.550   \n",
      "1359  01/18/2021  2.464  2.351  2.688  2.379  2.285  2.579  2.759  2.601   \n",
      "1360  01/25/2021  2.478  2.363  2.703  2.392  2.298  2.593  2.776  2.615   \n",
      "\n",
      "         M3     P1     P2     P3     D1  \n",
      "0     1.298  1.272  1.250  1.386  1.104  \n",
      "1     1.300  1.279  1.256  1.387  1.102  \n",
      "2     1.299  1.271  1.249  1.385  1.100  \n",
      "3     1.296  1.277  1.256  1.378  1.095  \n",
      "4     1.291  1.275  1.255  1.370  1.090  \n",
      "...     ...    ...    ...    ...    ...  \n",
      "1356  2.858  2.889  2.770  3.031  2.635  \n",
      "1357  2.867  2.895  2.771  3.042  2.640  \n",
      "1358  2.927  2.959  2.839  3.101  2.670  \n",
      "1359  2.995  3.014  2.885  3.166  2.696  \n",
      "1360  3.014  3.033  2.900  3.191  2.716  \n",
      "\n",
      "[1361 rows x 14 columns]\n"
     ]
    }
   ],
   "source": [
    "import pandas as pd\n",
    "import numpy as np\n",
    "import json\n",
    "df=pd.read_csv(\"PET_PRI_GND_DCUS_NUS_W.csv\")\n",
    "print(\"Los datos sin manipulación son:\")\n",
    "print(df)"
   ]
  },
  {
   "cell_type": "markdown",
   "metadata": {},
   "source": [
    "Como nos enfocaremos en los precios promedio según su nivel de octanaje no si su fórmula es convencional o reformulada, además incluiremos si es Premium o Diesel, eliminamos el resto de las columnas, ya que estas tienen el precio según si son gasolinas convencionales o reformuladas, en las cuales el nivel de octanaje no importa"
   ]
  },
  {
   "cell_type": "code",
   "execution_count": 57,
   "metadata": {},
   "outputs": [
    {
     "name": "stdout",
     "output_type": "stream",
     "text": [
      "            Date  All Grades  Regular  Midgraded  Premium  Diesel\n",
      "0     01/02/1995       1.127    1.079      1.170    1.272   1.104\n",
      "1     01/09/1995       1.134    1.086      1.177    1.279   1.102\n",
      "2     01/16/1995       1.126    1.078      1.168    1.271   1.100\n",
      "3     01/23/1995       1.132    1.083      1.177    1.277   1.095\n",
      "4     01/30/1995       1.131    1.083      1.176    1.275   1.090\n",
      "...          ...         ...      ...        ...      ...     ...\n",
      "1356  12/28/2020       2.330    2.243      2.634    2.889   2.635\n",
      "1357  01/04/2021       2.336    2.249      2.639    2.895   2.640\n",
      "1358  01/11/2021       2.403    2.317      2.702    2.959   2.670\n",
      "1359  01/18/2021       2.464    2.379      2.759    3.014   2.696\n",
      "1360  01/25/2021       2.478    2.392      2.776    3.033   2.716\n",
      "\n",
      "[1361 rows x 6 columns]\n"
     ]
    }
   ],
   "source": [
    "df.rename(columns={'A1':'All Grades','R1':'Regular','M1':'Midgraded','P1':'Premium','D1':'Diesel'},inplace=True)\n",
    "#Con ayuda de: https://www.analyticslane.com/2019/05/06/como-cambiar-el-nombre-de-las-columnas-en-pandas/\n",
    "cf=df.drop(['A2','A3','R2','R3','M2','M3','P2','P3'],axis=1) #Guardando la base que necesitamos en otra variable\n",
    "#Con ayuda de: https://www.analyticslane.com/2019/03/25/como-eliminar-columnas-y-filas-en-un-dataframe-pandas/"
   ]
  },
  {
   "cell_type": "markdown",
   "metadata": {},
   "source": [
    "Nuestra base de datos no cuenta con datos nulos"
   ]
  },
  {
   "cell_type": "code",
   "execution_count": 60,
   "metadata": {
    "scrolled": true
   },
   "outputs": [
    {
     "data": {
      "text/plain": [
       "Date          0\n",
       "All Grades    0\n",
       "Regular       0\n",
       "Midgraded     0\n",
       "Premium       0\n",
       "Diesel        0\n",
       "dtype: int64"
      ]
     },
     "execution_count": 60,
     "metadata": {},
     "output_type": "execute_result"
    }
   ],
   "source": [
    "cf.isnull().sum()"
   ]
  },
  {
   "cell_type": "markdown",
   "metadata": {},
   "source": [
    "Creando la nueva base de datos con los datos que necesitamos únicamente"
   ]
  },
  {
   "cell_type": "code",
   "execution_count": 62,
   "metadata": {},
   "outputs": [],
   "source": [
    "cf.to_csv(\"DatosNuevosGasolina.csv\",index=False)\n",
    "#Con ayuda de: https://aprendeia.com/limpieza-y-procesamiento-de-datos-con-codigo-en-python/"
   ]
  },
  {
   "cell_type": "markdown",
   "metadata": {},
   "source": [
    "### Base de datos secundaria\n",
    "* **Nombre:** 14 Years of Inflation (IPC) in Latino America\n",
    "* **URL:** https://www.kaggle.com/jaforero/inflation-ipc-in-latam?select=Inflation.csv"
   ]
  },
  {
   "cell_type": "code",
   "execution_count": 36,
   "metadata": {},
   "outputs": [
    {
     "name": "stdout",
     "output_type": "stream",
     "text": [
      "Los datos sin manipulación son:\n",
      "             Country  Year                                               Link  \\\n",
      "0           Ecuador   2020  https://www.ecuadorencifras.gob.ec//indice-de-...   \n",
      "1        El Salvador  2020      http://www.bcr.gob.sv/bcrsite/?x21=73&lang=es   \n",
      "2             Panamá  2020                http://www.contraloria.gob.pa/inec/   \n",
      "3    Rep. Dominicana  2020                      http://www.bancentral.gov.do/   \n",
      "4            Bolivia  2020    https://www.bcb.gob.bo/?q=indicadores_inflacion   \n",
      "..               ...   ...                                                ...   \n",
      "243         Colombia  2007                            http://www.dane.gov.co/   \n",
      "244          Uruguay  2007                  http://www.ine.gub.uy/Default.asp   \n",
      "245           Brazil  2007  http://www.bcb.gov.br/pec/metas/tabelametasere...   \n",
      "246        Argentina  2007  http://www.indec.mecon.ar/nivel4_default.asp?i...   \n",
      "247        Venezuela  2007  http://www.ine.gov.ve/index.php?option=com_con...   \n",
      "\n",
      "                 Source Anual Rate  \n",
      "0         Banco Ecuador     -0.93%  \n",
      "1    Banco del Salvador     -0.09%  \n",
      "2                  INEC        NaN  \n",
      "3         Banco Central      5.55%  \n",
      "4         Banco Central      0.70%  \n",
      "..                  ...        ...  \n",
      "243                DANE      5.70%  \n",
      "244                 INE      8.50%  \n",
      "245     Banco de Brasil      4.50%  \n",
      "246               INDEC      8.50%  \n",
      "247                 INE     22.50%  \n",
      "\n",
      "[248 rows x 5 columns]\n"
     ]
    }
   ],
   "source": [
    "import pandas as pd\n",
    "tf=pd.read_csv(\"Inflation.csv\",encoding='latin1') #Ayuda de: https://www.edureka.co/community/51909/unicodedecodeerror-codec-decode-position-unexpected-data\n",
    "print(\"Los datos sin manipulación son:\")\n",
    "print(tf)"
   ]
  },
  {
   "cell_type": "markdown",
   "metadata": {},
   "source": [
    "Como nos interesan cantidades, eliminaremos las columnas de la fuente así como su URL, y renombramos las columnas que nos importan al idioma español"
   ]
  },
  {
   "cell_type": "code",
   "execution_count": 37,
   "metadata": {},
   "outputs": [
    {
     "name": "stdout",
     "output_type": "stream",
     "text": [
      "                Pais   Año TasaAnual\n",
      "0           Ecuador   2020    -0.93%\n",
      "1        El Salvador  2020    -0.09%\n",
      "2             Panamá  2020       NaN\n",
      "3    Rep. Dominicana  2020     5.55%\n",
      "4            Bolivia  2020     0.70%\n",
      "..               ...   ...       ...\n",
      "243         Colombia  2007     5.70%\n",
      "244          Uruguay  2007     8.50%\n",
      "245           Brazil  2007     4.50%\n",
      "246        Argentina  2007     8.50%\n",
      "247        Venezuela  2007    22.50%\n",
      "\n",
      "[248 rows x 3 columns]\n"
     ]
    }
   ],
   "source": [
    "tf.rename(columns={'Country':'Pais','Year':'Año','Anual Rate':'TasaAnual'},inplace=True)\n",
    "rf=tf.drop(['Link','Source'],axis=1)\n",
    "print(rf)"
   ]
  },
  {
   "cell_type": "markdown",
   "metadata": {},
   "source": [
    "Si contamos con datos nulos en esta base, en este caso 2 tasas no aparecen"
   ]
  },
  {
   "cell_type": "code",
   "execution_count": 38,
   "metadata": {},
   "outputs": [
    {
     "data": {
      "text/plain": [
       "Pais         0\n",
       "Año          0\n",
       "TasaAnual    2\n",
       "dtype: int64"
      ]
     },
     "execution_count": 38,
     "metadata": {},
     "output_type": "execute_result"
    }
   ],
   "source": [
    "rf.isnull().sum()"
   ]
  },
  {
   "cell_type": "markdown",
   "metadata": {},
   "source": [
    "Utilizando el comando dropna eliminamos estas filas"
   ]
  },
  {
   "cell_type": "code",
   "execution_count": 39,
   "metadata": {},
   "outputs": [
    {
     "data": {
      "text/plain": [
       "Pais         0\n",
       "Año          0\n",
       "TasaAnual    0\n",
       "dtype: int64"
      ]
     },
     "execution_count": 39,
     "metadata": {},
     "output_type": "execute_result"
    }
   ],
   "source": [
    "rf=rf.dropna(axis=0)\n",
    "rf.isnull().sum()"
   ]
  },
  {
   "cell_type": "markdown",
   "metadata": {},
   "source": [
    "Creando un nuevo archivo con la base limpia y los datos necesarios"
   ]
  },
  {
   "cell_type": "code",
   "execution_count": 40,
   "metadata": {},
   "outputs": [],
   "source": [
    "rf.to_csv(\"InflaciónNueva.csv\",index=False)"
   ]
  },
  {
   "cell_type": "markdown",
   "metadata": {},
   "source": [
    "### Extra\n",
    "* **dropna:** Permite de una forma muy conveniente, filtrar los valores de una estructura de datos pandas para dejar solo aquellos no nulos. Su sintaxis es pandas.df.dropna(axis=1), donde el axis 0 se refiere a filas, el axis 1 a columnas y también se tiene el pandas.df.dropna(how=\"all\") donde un all elimina todas las filas y/o columnas donde todos los datos sean nulos y un any servirá para eliminar las filas y/o columnas en donde al menos un elemento sea cero."
   ]
  },
  {
   "cell_type": "code",
   "execution_count": 29,
   "metadata": {},
   "outputs": [
    {
     "data": {
      "text/html": [
       "<div>\n",
       "<style scoped>\n",
       "    .dataframe tbody tr th:only-of-type {\n",
       "        vertical-align: middle;\n",
       "    }\n",
       "\n",
       "    .dataframe tbody tr th {\n",
       "        vertical-align: top;\n",
       "    }\n",
       "\n",
       "    .dataframe thead th {\n",
       "        text-align: right;\n",
       "    }\n",
       "</style>\n",
       "<table border=\"1\" class=\"dataframe\">\n",
       "  <thead>\n",
       "    <tr style=\"text-align: right;\">\n",
       "      <th></th>\n",
       "      <th>País</th>\n",
       "      <th>Año</th>\n",
       "      <th>Tasa Anual</th>\n",
       "    </tr>\n",
       "  </thead>\n",
       "  <tbody>\n",
       "    <tr>\n",
       "      <th>0</th>\n",
       "      <td>Ecuador</td>\n",
       "      <td>2020</td>\n",
       "      <td>-0.93%</td>\n",
       "    </tr>\n",
       "    <tr>\n",
       "      <th>1</th>\n",
       "      <td>El Salvador</td>\n",
       "      <td>2020</td>\n",
       "      <td>-0.09%</td>\n",
       "    </tr>\n",
       "    <tr>\n",
       "      <th>3</th>\n",
       "      <td>Rep. Dominicana</td>\n",
       "      <td>2020</td>\n",
       "      <td>5.55%</td>\n",
       "    </tr>\n",
       "    <tr>\n",
       "      <th>4</th>\n",
       "      <td>Bolivia</td>\n",
       "      <td>2020</td>\n",
       "      <td>0.70%</td>\n",
       "    </tr>\n",
       "    <tr>\n",
       "      <th>5</th>\n",
       "      <td>Costa Rica</td>\n",
       "      <td>2020</td>\n",
       "      <td>0.89%</td>\n",
       "    </tr>\n",
       "    <tr>\n",
       "      <th>...</th>\n",
       "      <td>...</td>\n",
       "      <td>...</td>\n",
       "      <td>...</td>\n",
       "    </tr>\n",
       "    <tr>\n",
       "      <th>243</th>\n",
       "      <td>Colombia</td>\n",
       "      <td>2007</td>\n",
       "      <td>5.70%</td>\n",
       "    </tr>\n",
       "    <tr>\n",
       "      <th>244</th>\n",
       "      <td>Uruguay</td>\n",
       "      <td>2007</td>\n",
       "      <td>8.50%</td>\n",
       "    </tr>\n",
       "    <tr>\n",
       "      <th>245</th>\n",
       "      <td>Brazil</td>\n",
       "      <td>2007</td>\n",
       "      <td>4.50%</td>\n",
       "    </tr>\n",
       "    <tr>\n",
       "      <th>246</th>\n",
       "      <td>Argentina</td>\n",
       "      <td>2007</td>\n",
       "      <td>8.50%</td>\n",
       "    </tr>\n",
       "    <tr>\n",
       "      <th>247</th>\n",
       "      <td>Venezuela</td>\n",
       "      <td>2007</td>\n",
       "      <td>22.50%</td>\n",
       "    </tr>\n",
       "  </tbody>\n",
       "</table>\n",
       "<p>246 rows × 3 columns</p>\n",
       "</div>"
      ],
      "text/plain": [
       "                País   Año Tasa Anual\n",
       "0           Ecuador   2020     -0.93%\n",
       "1        El Salvador  2020     -0.09%\n",
       "3    Rep. Dominicana  2020      5.55%\n",
       "4            Bolivia  2020      0.70%\n",
       "5         Costa Rica  2020      0.89%\n",
       "..               ...   ...        ...\n",
       "243         Colombia  2007      5.70%\n",
       "244          Uruguay  2007      8.50%\n",
       "245           Brazil  2007      4.50%\n",
       "246        Argentina  2007      8.50%\n",
       "247        Venezuela  2007     22.50%\n",
       "\n",
       "[246 rows x 3 columns]"
      ]
     },
     "execution_count": 29,
     "metadata": {},
     "output_type": "execute_result"
    }
   ],
   "source": [
    "rf.dropna(how=\"any\") #No elimina nada ya que no se tienen datos nulos"
   ]
  },
  {
   "cell_type": "markdown",
   "metadata": {},
   "source": [
    "* **astype:** Cambia el tipo de datos según el deseado con la sintaxis pandas.df[columna].astype(tipo de dato deseado)"
   ]
  },
  {
   "cell_type": "code",
   "execution_count": 44,
   "metadata": {},
   "outputs": [
    {
     "data": {
      "text/plain": [
       "0      2020.0\n",
       "1      2020.0\n",
       "3      2020.0\n",
       "4      2020.0\n",
       "5      2020.0\n",
       "        ...  \n",
       "243    2007.0\n",
       "244    2007.0\n",
       "245    2007.0\n",
       "246    2007.0\n",
       "247    2007.0\n",
       "Name: Año, Length: 246, dtype: float64"
      ]
     },
     "execution_count": 44,
     "metadata": {},
     "output_type": "execute_result"
    }
   ],
   "source": [
    "rf.Año.astype(float)"
   ]
  }
 ],
 "metadata": {
  "kernelspec": {
   "display_name": "Python 3",
   "language": "python",
   "name": "python3"
  },
  "language_info": {
   "codemirror_mode": {
    "name": "ipython",
    "version": 3
   },
   "file_extension": ".py",
   "mimetype": "text/x-python",
   "name": "python",
   "nbconvert_exporter": "python",
   "pygments_lexer": "ipython3",
   "version": "3.8.5"
  }
 },
 "nbformat": 4,
 "nbformat_minor": 4
}
