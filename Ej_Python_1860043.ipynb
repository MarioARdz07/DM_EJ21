{
 "cells": [
  {
   "cell_type": "markdown",
   "metadata": {},
   "source": [
    "## Ejercicios básicos de Python\n",
    "* **Nombre**: Mario Alberto Rodríguez Morales\n",
    "* **Matrícula**: 1860043\n",
    "* **Grupo**: 003 (Lunes 18-21)"
   ]
  },
  {
   "cell_type": "markdown",
   "metadata": {},
   "source": [
    "### Ejercicio 1\n",
    "Realiza una variable con tu matricula y realiza una secuencia de imprimir con tu nombre y tu matricula concatenados."
   ]
  },
  {
   "cell_type": "code",
   "execution_count": 5,
   "metadata": {},
   "outputs": [
    {
     "name": "stdout",
     "output_type": "stream",
     "text": [
      "Mario Alberto Rodríguez Morales 1860043\n"
     ]
    }
   ],
   "source": [
    "mat=1860043\n",
    "nom='Mario Alberto Rodríguez Morales'\n",
    "print(nom,mat)"
   ]
  },
  {
   "cell_type": "markdown",
   "metadata": {},
   "source": [
    "### Ejercicio 2\n",
    "Pidiendo el input del usuario pide dos números y crea una pequeña calculadora con los operadores básicos de suma, resta, multiplicación, división, y exponente."
   ]
  },
  {
   "cell_type": "code",
   "execution_count": 5,
   "metadata": {},
   "outputs": [
    {
     "name": "stdout",
     "output_type": "stream",
     "text": [
      "Ingresa un número: 4\n",
      "Ingresa otro número: 7\n",
      "La suma de los números es:  11.0\n",
      "La resta de los números es:  -3.0\n",
      "El producto de los números es:  28.0\n",
      "El cociente de los números es:  0.5714285714285714\n",
      "El número 1 elevado a la potencia número 2 es:  16384.0\n"
     ]
    }
   ],
   "source": [
    "n1=float(input(\"Ingresa un número: \"))\n",
    "n2=float(input(\"Ingresa otro número: \"))\n",
    "s=n1+n2\n",
    "r=n1-n2\n",
    "m=n1*n2\n",
    "d=n1/n2\n",
    "e=n1**n2\n",
    "print(\"La suma de los números es: \",s)\n",
    "print(\"La resta de los números es: \",r)\n",
    "print(\"El producto de los números es: \",m)\n",
    "print(\"El cociente de los números es: \",d)\n",
    "print(\"El número 1 elevado a la potencia número 2 es: \",e)"
   ]
  },
  {
   "cell_type": "markdown",
   "metadata": {},
   "source": [
    "### Ejercicio 3\n",
    "Con loop while o for, realiza una lista de 10 numeros multiplos de 3, y después realiza una función de loop que sume todos los números dentro del arreglo."
   ]
  },
  {
   "cell_type": "code",
   "execution_count": 6,
   "metadata": {},
   "outputs": [
    {
     "name": "stdout",
     "output_type": "stream",
     "text": [
      "[0, 3, 6, 9, 12, 15, 18, 21, 24, 27, 30]\n",
      "La suma de los números es:  165\n"
     ]
    }
   ],
   "source": [
    "n=[]\n",
    "i=0\n",
    "while len(n)<=10:\n",
    "    if i%3==0:\n",
    "        n.append(i)\n",
    "    i=i+1\n",
    "print(n)\n",
    "s=0\n",
    "for n in n:\n",
    "    s=s+n\n",
    "print(\"La suma de los números es: \",s)"
   ]
  },
  {
   "cell_type": "markdown",
   "metadata": {},
   "source": [
    "### Ejercicio 4\n",
    "Con una función de if else, revisar si un número es par o es impar."
   ]
  },
  {
   "cell_type": "code",
   "execution_count": 7,
   "metadata": {},
   "outputs": [
    {
     "name": "stdout",
     "output_type": "stream",
     "text": [
      "Ingresa un número: 14\n",
      "El número es par\n"
     ]
    }
   ],
   "source": [
    "n=float(input(\"Ingresa un número: \"))\n",
    "if n%2==0:\n",
    "    print(\"El número es par\")\n",
    "else:\n",
    "    print(\"El número es impar\")"
   ]
  },
  {
   "cell_type": "markdown",
   "metadata": {},
   "source": [
    "Con una función de if else, revisar si un número es primo o no."
   ]
  },
  {
   "cell_type": "code",
   "execution_count": 8,
   "metadata": {},
   "outputs": [
    {
     "name": "stdout",
     "output_type": "stream",
     "text": [
      "Ingresa un número: 17\n",
      "El número es primo\n"
     ]
    }
   ],
   "source": [
    "n=int(input(\"Ingresa un número: \"))\n",
    "divs=0\n",
    "for i in range(2,n):\n",
    "    if n%i==0:\n",
    "        divs=divs+1\n",
    "    else:\n",
    "        continue\n",
    "if divs==0:\n",
    "    print(\"El número es primo\")\n",
    "else:\n",
    "    print(\"El número no es primo\")"
   ]
  },
  {
   "cell_type": "markdown",
   "metadata": {},
   "source": [
    "### Ejercicio 5\n",
    "Utilizando diferentes clases en python, crea una calculadora con los operadores básicos de suma, resta, multiplicación, división, y exponente."
   ]
  },
  {
   "cell_type": "code",
   "execution_count": 28,
   "metadata": {},
   "outputs": [
    {
     "name": "stdout",
     "output_type": "stream",
     "text": [
      "Ingresa una opción:\n",
      "1. Suma\n",
      "2. Resta\n",
      "3. Multiplicación\n",
      "4. División\n",
      "5. Exponente\n",
      "6. Salir\n",
      "\n",
      "Respuesta:2\n",
      "Ingresa un número: 1\n",
      "Ingresa otro número: 3\n",
      "La resta de los números es:  -2.0\n",
      "Ingresa una opción:\n",
      "1. Suma\n",
      "2. Resta\n",
      "3. Multiplicación\n",
      "4. División\n",
      "5. Exponente\n",
      "6. Salir\n",
      "\n",
      "Respuesta:5\n",
      "Ingresa un número: 3\n",
      "Ingresa la potencia: 8\n",
      "El número elevado a la potencia es:  6561.0\n",
      "Ingresa una opción:\n",
      "1. Suma\n",
      "2. Resta\n",
      "3. Multiplicación\n",
      "4. División\n",
      "5. Exponente\n",
      "6. Salir\n",
      "\n",
      "Respuesta:6\n"
     ]
    }
   ],
   "source": [
    "def suma(n1,n2):\n",
    "    s=n1+n2\n",
    "    return s\n",
    "\n",
    "def resta(n1,n2):\n",
    "    r=n1-n2\n",
    "    return r\n",
    "\n",
    "def mult(n1,n2):\n",
    "    m=n1*n2\n",
    "    return m\n",
    "\n",
    "def div(n1,n2):\n",
    "    d=n1/n2\n",
    "    return d\n",
    "\n",
    "def exp(n1,n2):\n",
    "    e=n1**n2\n",
    "    return e\n",
    "\n",
    "op=1\n",
    "while op!=6:\n",
    "    op=int(input(\"Ingresa una opción:\\n1. Suma\\n2. Resta\\n3. Multiplicación\\n4. División\\n5. Exponente\\n6. Salir\\n\\nRespuesta:\"))\n",
    "    while op<1 or op>6:\n",
    "        op=int(input(\"Ingresa una opción válida. Respuesta: \"))\n",
    "    if op==1:\n",
    "        a=float(input(\"Ingresa un número: \"))\n",
    "        b=float(input(\"Ingresa otro número: \"))\n",
    "        sm=suma(a,b)\n",
    "        print(\"La suma de los números es: \",sm)\n",
    "    if op==2:\n",
    "        a=float(input(\"Ingresa un número: \"))\n",
    "        b=float(input(\"Ingresa otro número: \"))\n",
    "        rs=resta(a,b)\n",
    "        print(\"La resta de los números es: \",rs)\n",
    "    if op==3:\n",
    "        a=float(input(\"Ingresa un número: \"))\n",
    "        b=float(input(\"Ingresa otro número: \"))\n",
    "        ml=mul(a,b)\n",
    "        print(\"El producto de los números es: \",ml)\n",
    "    if op==4:\n",
    "        a=float(input(\"Ingresa el dividendo: \"))\n",
    "        b=float(input(\"Ingresa el divisor: \"))\n",
    "        dv=div(a,b)\n",
    "        print(\"El cociente de los números es: \",dv)\n",
    "    if op==5:\n",
    "        a=float(input(\"Ingresa un número: \"))\n",
    "        b=float(input(\"Ingresa la potencia: \"))\n",
    "        e=exp(a,b)\n",
    "        print(\"El número elevado a la potencia es: \",e)"
   ]
  },
  {
   "cell_type": "markdown",
   "metadata": {},
   "source": [
    "## Ejercicios con estructuras básicas de Python.\n",
    "#### Tuplas\n",
    "* Crear una variable flotante, integer, boleana y compleja e imprimir el tipo de variable que es."
   ]
  },
  {
   "cell_type": "code",
   "execution_count": 31,
   "metadata": {},
   "outputs": [
    {
     "name": "stdout",
     "output_type": "stream",
     "text": [
      "El número a es 0.74663 y es del tipo <class 'float'>\n",
      "El número b es 6 y es del tipo <class 'int'>\n",
      "La variable c es False y es del tipo <class 'bool'>\n",
      "El número d es (3+7j) y es del tipo <class 'complex'>\n"
     ]
    }
   ],
   "source": [
    "a=0.74663\n",
    "t=type(a)\n",
    "print(\"El número a es\",a,\"y es del tipo\",t)\n",
    "b=6\n",
    "t=type(b)\n",
    "print(\"El número b es\",b,\"y es del tipo\",t)\n",
    "c=False\n",
    "t=type(c)\n",
    "print(\"La variable c es\",c,\"y es del tipo\",t)\n",
    "d=3+7j\n",
    "t=type(d)\n",
    "print(\"El número d es\",d,\"y es del tipo\",t)"
   ]
  },
  {
   "cell_type": "markdown",
   "metadata": {},
   "source": [
    "* Crear una tupla con valores enteros imprimir el primer y ultimo valor."
   ]
  },
  {
   "cell_type": "code",
   "execution_count": 45,
   "metadata": {},
   "outputs": [
    {
     "name": "stdout",
     "output_type": "stream",
     "text": [
      "El primer valor es:  1\n",
      "El último valor es:  6\n"
     ]
    }
   ],
   "source": [
    "s=(1,5,7,28,5,14,18,28,29,6)\n",
    "pr=s[0]\n",
    "n=len(s)\n",
    "ul=s[n-1]\n",
    "print(\"El primer valor es: \",pr)\n",
    "print(\"El último valor es: \",ul)"
   ]
  },
  {
   "cell_type": "markdown",
   "metadata": {},
   "source": [
    "* Añadir 3 valores de string a la tupla.\n",
    "* Verificar si una variable existe dentro de la tupla."
   ]
  },
  {
   "cell_type": "code",
   "execution_count": 55,
   "metadata": {},
   "outputs": [
    {
     "name": "stdout",
     "output_type": "stream",
     "text": [
      "('Hola', 'Lunes', 'Monterrey')\n",
      "Variable a buscar en la tupla: Hola\n",
      "La variable está en la tupla\n"
     ]
    }
   ],
   "source": [
    "s=('Hola','Lunes','Monterrey')\n",
    "print(s)\n",
    "var=input(\"Variable a buscar en la tupla: \")\n",
    "if var in s:\n",
    "    print(\"La variable está en la tupla\")\n",
    "else:\n",
    "    print(\"La variable no está en la tupla\")"
   ]
  },
  {
   "cell_type": "markdown",
   "metadata": {},
   "source": [
    "#### Listas\n",
    "* Crear una lista con 40 elementos aleatorios enteros.\n",
    "* Con una funcion (def) crear dos listas nuevas a partir de la lista creada por numeros aleatorios, en la cual en una esten los elementos pares, y en la otra los elementos impares.\n",
    "* Crear dos variables con la longitud de ambas listas nuevas e imprimir las variables.\n",
    "* Ordenar los elementos de la lista par de mayor a menor, y los de la lista impar de menor a mayor.\n",
    "* Utilizar al menos cuatro de las funciones de listas en python en la lista original de 40 elementos."
   ]
  },
  {
   "cell_type": "code",
   "execution_count": 4,
   "metadata": {},
   "outputs": [
    {
     "name": "stdout",
     "output_type": "stream",
     "text": [
      "La lista es: [128, 94, 34, 35, 54, 48, 101, 127, 194, 19, 143, 11, 145, 2, 58, 68, 171, 117, 114, 165, 102, 38, 191, 112, 86, 164, 37, 84, 120, 174, 92, 133, 108, 44, 91, 67, 25, 66, 100, 180]\n",
      "Los pares de la lista son:  [128, 94, 34, 54, 48, 194, 2, 58, 68, 114, 102, 38, 112, 86, 164, 84, 120, 174, 92, 108, 44, 66, 100, 180] \n",
      "Los impares de la lista son:  [35, 101, 127, 19, 143, 11, 145, 171, 117, 165, 191, 37, 133, 91, 67, 25]\n",
      "La cantidad de pares es:  24 \n",
      "La cantidad de impares es: 16\n",
      "Los números pares ordenados de mayor a menor:  [194, 180, 174, 164, 128, 120, 114, 112, 108, 102, 100, 94, 92, 86, 84, 68, 66, 58, 54, 48, 44, 38, 34, 2]\n",
      "Los números impares ordenados de menor a mayor son:  [11, 19, 25, 35, 37, 67, 91, 101, 117, 127, 133, 143, 145, 165, 171, 191]\n",
      "La suma de los 40 números es:  3842\n",
      "El promedio de los 40 números es:  96.05\n",
      "El menor de los 40 números es:  2\n",
      "El mayor de los 40 número es:  194\n",
      "La suma de los 3 números mayores es:  565\n"
     ]
    }
   ],
   "source": [
    "import random\n",
    "def par(l):\n",
    "    par=list()\n",
    "    for a in l:\n",
    "        if a%2==0:\n",
    "            par.append(a)\n",
    "    return par\n",
    "\n",
    "def impar(l):\n",
    "    impar=list()\n",
    "    for a in l:\n",
    "        if a%2!=0:\n",
    "            impar.append(a)\n",
    "    return impar\n",
    "\n",
    "l1=list()\n",
    "l2=list()\n",
    "A=range(0,200)\n",
    "l=random.sample(A,40)\n",
    "print(\"La lista es:\",l)\n",
    "l1=par(l)\n",
    "l2=impar(l)\n",
    "print(\"Los pares de la lista son: \",l1,\"\\nLos impares de la lista son: \",l2)\n",
    "lp=len(l1)\n",
    "li=len(l2)\n",
    "print(\"La cantidad de pares es: \",lp,\"\\nLa cantidad de impares es:\",li)\n",
    "l2.sort()\n",
    "l1ord=sorted(l1,reverse=True) #Ayuda de: https://j2logo.com/python/ordenar-una-lista-en-python/\n",
    "l1=l1ord\n",
    "print(\"Los números pares ordenados de mayor a menor: \",l1)\n",
    "print(\"Los números impares ordenados de menor a mayor son: \",l2)\n",
    "s=sum(l)\n",
    "p=s/40\n",
    "l.sort()\n",
    "mn=min(l)\n",
    "mx=max(l)\n",
    "spm=sum(l[37:40])\n",
    "print(\"La suma de los 40 números es: \",s)\n",
    "print(\"El promedio de los 40 números es: \",p)\n",
    "print(\"El menor de los 40 números es: \",mn)\n",
    "print(\"El mayor de los 40 número es: \",mx)\n",
    "print(\"La suma de los 3 números mayores es: \",spm)"
   ]
  },
  {
   "cell_type": "markdown",
   "metadata": {},
   "source": [
    "#### Diccionarios\n",
    "* Crear un diccionario de 6 personas que conozcas con su primer nombre y su edad.\n",
    "* Crear una lista con los valores de la edad y reacomodar la lista de menor a mayor valor.\n",
    "* Usando el diccionario y un loop, imprimir solo los nombres.\n",
    "* Añadir dos personas nuevas a tu diccionario, incluyendo edad."
   ]
  },
  {
   "cell_type": "code",
   "execution_count": 1,
   "metadata": {},
   "outputs": [
    {
     "name": "stdout",
     "output_type": "stream",
     "text": [
      "La personas con sus edades son:  {'Miguel': 20, 'Luis': 19, 'Alexis': 18, 'Oscar': 19, 'Veronica': 19, 'Priscila': 20}\n",
      "Las edades de menor a mayor valor son [18, 19, 19, 19, 20, 20]\n",
      "Los nombres son: \n",
      "Miguel\n",
      "Luis\n",
      "Alexis\n",
      "Oscar\n",
      "Veronica\n",
      "Priscila\n",
      "La nueva agenda es:  {'Miguel': 20, 'Luis': 19, 'Alexis': 18, 'Oscar': 19, 'Veronica': 19, 'Priscila': 20, 'Junior': 20, 'Alan': 20}\n"
     ]
    }
   ],
   "source": [
    "agenda={'Miguel':20,'Luis':19,'Alexis':18,'Oscar':19,'Veronica':19,'Priscila':20}\n",
    "edades=list()\n",
    "print(\"La personas con sus edades son: \",agenda)\n",
    "for e in agenda:\n",
    "    edades.append(agenda[e])\n",
    "edades.sort()\n",
    "print(\"Las edades de menor a mayor valor son\",edades)\n",
    "print(\"Los nombres son: \")\n",
    "nombres=agenda.keys() #Ayuda de: https://uniwebsidad.com/libros/python/capitulo-8/metodos-de-retorno\n",
    "for nombre in nombres:\n",
    "    print(nombre)\n",
    "agenda['Junior']=20\n",
    "agenda['Alan']=20\n",
    "print(\"La nueva agenda es: \",agenda)"
   ]
  },
  {
   "cell_type": "markdown",
   "metadata": {},
   "source": [
    "#### Sets\n",
    "* Crea un set con 100 numeros aleatorios enteros del 1 al 25.\n",
    "* Comprueba la longitud de tu set.\n",
    "* Crea una lista de 5 numeros aleatorios del 1 al 10 y comprueba si cada valor aparece en el set inicial."
   ]
  },
  {
   "cell_type": "code",
   "execution_count": 55,
   "metadata": {},
   "outputs": [
    {
     "name": "stdout",
     "output_type": "stream",
     "text": [
      "El set es: {0, 1, 2, 3, 4, 5, 6, 7, 8, 9, 10, 11, 12, 13, 15, 16, 17, 18, 19, 20, 21, 22, 23, 24, 25}\n",
      "La longitud del set es:  25\n",
      "La lista de 5 números aleatorios es:  [8, 1, 1, 4, 6]\n",
      "El número  8  está en el set.\n",
      "El número  1  está en el set.\n",
      "El número  1  está en el set.\n",
      "El número  4  está en el set.\n",
      "El número  6  está en el set.\n"
     ]
    }
   ],
   "source": [
    "import random\n",
    "set1=set()\n",
    "lrn=list()\n",
    "for i in range(0,100):\n",
    "    rn=random.randint(0,25)\n",
    "    set1.add(rn)\n",
    "print(\"El set es:\",set1)\n",
    "l=len(set1)\n",
    "print(\"La longitud del set es: \",l)\n",
    "for i in range(0,5):\n",
    "    rn=random.randint(0,10)\n",
    "    lrn.append(rn)\n",
    "print(\"La lista de 5 números aleatorios es: \",lrn)\n",
    "for n in lrn:\n",
    "    if n in set1:\n",
    "        print(\"El número \",n,\" está en el set.\")\n",
    "    else:\n",
    "        print(\"El número \",n,\" no está en el set.\")"
   ]
  }
 ],
 "metadata": {
  "kernelspec": {
   "display_name": "Python 3",
   "language": "python",
   "name": "python3"
  },
  "language_info": {
   "codemirror_mode": {
    "name": "ipython",
    "version": 3
   },
   "file_extension": ".py",
   "mimetype": "text/x-python",
   "name": "python",
   "nbconvert_exporter": "python",
   "pygments_lexer": "ipython3",
   "version": "3.8.5"
  }
 },
 "nbformat": 4,
 "nbformat_minor": 4
}
